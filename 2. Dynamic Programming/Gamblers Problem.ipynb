{
 "cells": [
  {
   "cell_type": "markdown",
   "metadata": {
    "collapsed": true
   },
   "source": [
    "### This is Example 4.3. Gambler’s Problem from Sutton's book.\n",
    "\n",
    "A gambler has the opportunity to make bets on the outcomes of a sequence of coin flips. \n",
    "If the coin comes up heads, he wins as many dollars as he has staked on that flip; \n",
    "if it is tails, he loses his stake. The game ends when the gambler wins by reaching his goal of $100, \n",
    "or loses by running out of money. \n",
    "\n",
    "On each flip, the gambler must decide what portion of his capital to stake, in integer numbers of dollars. \n",
    "This problem can be formulated as an undiscounted, episodic, finite MDP. \n",
    "\n",
    "The state is the gambler’s capital, s ∈ {1, 2, . . . , 99}.\n",
    "The actions are stakes, a ∈ {0, 1, . . . , min(s, 100 − s)}. \n",
    "The reward is zero on all transitions except those on which the gambler reaches his goal, when it is +1.\n",
    "\n",
    "The state-value function then gives the probability of winning from each state. A policy is a mapping from levels of capital to stakes. The optimal policy maximizes the probability of reaching the goal. Let p_h denote the probability of the coin coming up heads. If p_h is known, then the entire problem is known and it can be solved, for instance, by value iteration.\n"
   ]
  },
  {
   "cell_type": "code",
   "execution_count": 6,
   "metadata": {},
   "outputs": [],
   "source": [
    "import numpy as np\n",
    "import sys\n",
    "import matplotlib.pyplot as plt\n",
    "if \"../\" not in sys.path:\n",
    "  sys.path.append(\"../\") "
   ]
  },
  {
   "cell_type": "markdown",
   "metadata": {
    "collapsed": true
   },
   "source": [
    "\n",
    "### Exercise 4.9 (programming)\n",
    "\n",
    "Implement value iteration for the gambler’s problem and solve it for p_h = 0.25 and p_h = 0.55.\n",
    "\n"
   ]
  },
  {
   "cell_type": "markdown",
   "metadata": {},
   "source": [
    "S: 80, Stake: 20\n",
    "\n",
    "If coin flips head: (`p_h`), balance = s+a\n",
    "\n",
    "If coin flips tails: (`1-p_h`), balance = s-a"
   ]
  },
  {
   "cell_type": "code",
   "execution_count": 27,
   "metadata": {},
   "outputs": [],
   "source": [
    "def value_iteration_for_gamblers(p_h, theta=0.0001, discount_factor=1.0):\n",
    "    \"\"\"\n",
    "    Args:\n",
    "        p_h: Probability of the coin coming up heads\n",
    "    \"\"\"\n",
    "    # rewards is all zero except when gambler has won (100$ balance)\n",
    "    rewards = np.zeros(101)\n",
    "    rewards[100] = 1\n",
    "    \n",
    "    # We introduce two dummy states for termination with 0$ and 100$\n",
    "    # 1-99, 0, 100 = 101 elements\n",
    "    V = np.zeros(101)\n",
    "    \n",
    "    def one_step_lookahead(s, V, rewards):\n",
    "        \"\"\"\n",
    "        Helper function to calculate the value for all action in a given state.\n",
    "        \n",
    "        Args:\n",
    "            s: The gambler’s capital. Integer.\n",
    "            V: The vector that contains values at each state. \n",
    "            rewards: The reward vector.\n",
    "                        \n",
    "        Returns:\n",
    "            A vector containing the expected value of each action. \n",
    "            Its length equals to the number of actions.\n",
    "        \"\"\"\n",
    "        A = np.zeros(100)\n",
    "        stakes = range(1,min(s,100-s)+1)\n",
    "        for a in stakes:\n",
    "            # rewards[s+-a]: immediate rewards\n",
    "            # V[s+-a]: value of next state\n",
    "            # Bellman Equation: The expected value of your action is \n",
    "            # the sum of immediate rewards and the value of the next state.\n",
    "            A[a] += p_h * (rewards[s+a] + V[s+a]*discount_factor) + (1-p_h) * (rewards[s-a] + V[s-a]*discount_factor)\n",
    "        return A\n",
    "    \n",
    "    # Same Value Iter code\n",
    "    while True:\n",
    "        delta = 0\n",
    "        for s in range(1,100):\n",
    "            A = one_step_lookahead(s, V, rewards)\n",
    "            best_action_value = np.max(A)\n",
    "            delta = max(delta, np.abs(best_action_value - V[s]))\n",
    "            V[s] = best_action_value\n",
    "        if delta < theta:\n",
    "            break\n",
    "    \n",
    "    # Create a deterministic 100 length policy with optimal value function\n",
    "    policy = np.zeros(100)\n",
    "    for s in range(1,100):\n",
    "        A = one_step_lookahead(s,V,rewards)\n",
    "        best_action = np.argmax(A)\n",
    "        policy[s] = best_action\n",
    "        # When I have s dollars, how much should I bet? (best_action)\n",
    "    return policy, V"
   ]
  },
  {
   "cell_type": "code",
   "execution_count": 41,
   "metadata": {},
   "outputs": [
    {
     "name": "stdout",
     "output_type": "stream",
     "text": [
      "Optimized Policy:\n",
      "[ 0.  1.  2.  3.  4.  5.  6.  7.  8.  9. 10. 11. 12. 13. 14. 15. 16. 17.\n",
      " 18. 19. 20. 21. 22. 23. 24. 25. 26. 27. 28. 29. 30. 31. 32. 33. 34. 35.\n",
      " 36. 37. 38. 39. 40. 41. 42. 43. 44. 45. 46. 47. 48. 49. 25. 26. 27. 28.\n",
      " 29. 30. 31. 32. 33. 34. 35. 36. 37.  1. 14. 15. 16. 17. 18. 19. 20. 21.\n",
      " 22. 23. 24. 25.  2.  4.  3. 17.  7.  6.  7.  8.  9. 10. 11. 12.  1.  2.\n",
      "  9.  4.  5.  6.  5.  3.  3.  1.  2.  1.]\n",
      "\n",
      "Optimized Value Function:\n",
      "[0.         0.00999999 0.02       0.03       0.04       0.05\n",
      " 0.06       0.07       0.08       0.09       0.1        0.11\n",
      " 0.12       0.13       0.14       0.15       0.16       0.17\n",
      " 0.18       0.19       0.2        0.21       0.22       0.23\n",
      " 0.24       0.25       0.26       0.27       0.28       0.29\n",
      " 0.3        0.31       0.32       0.33       0.34       0.35\n",
      " 0.36       0.37       0.38       0.39       0.4        0.41\n",
      " 0.42       0.43       0.44       0.45       0.46       0.47\n",
      " 0.48       0.49       0.5        0.51       0.52       0.53\n",
      " 0.54       0.55       0.56       0.57       0.58       0.59\n",
      " 0.6        0.61       0.62       0.63       0.64       0.65\n",
      " 0.66       0.67       0.68       0.69       0.7        0.71\n",
      " 0.72       0.73       0.74       0.75       0.76       0.77\n",
      " 0.78       0.79       0.8        0.81       0.82       0.83\n",
      " 0.84       0.85       0.86       0.87       0.88       0.89\n",
      " 0.9        0.91       0.92       0.93       0.94       0.95\n",
      " 0.96       0.97       0.98       0.99       0.        ]\n",
      "\n"
     ]
    }
   ],
   "source": [
    "policy, v = value_iteration_for_gamblers(0.50)\n",
    "\n",
    "print(\"Optimized Policy:\")\n",
    "print(policy)\n",
    "print(\"\")\n",
    "\n",
    "print(\"Optimized Value Function:\")\n",
    "print(v)\n",
    "print(\"\")"
   ]
  },
  {
   "cell_type": "code",
   "execution_count": 42,
   "metadata": {},
   "outputs": [
    {
     "data": {
      "image/png": "[encoded data removed]",
      "text/plain": [
       "<Figure size 432x288 with 1 Axes>"
      ]
     },
     "metadata": {
      "needs_background": "light"
     },
     "output_type": "display_data"
    }
   ],
   "source": [
    "# Plotting Final Policy (action stake) vs State (Capital)\n",
    "\n",
    "x = range(100)\n",
    "y = v[:100]\n",
    "\n",
    "plt.plot(x, y)\n",
    "plt.xlabel('Capital')\n",
    "plt.ylabel('Value Estimates')\n",
    "plt.title('Final Policy (action stake) vs State (Capital)')\n",
    "plt.show()"
   ]
  },
  {
   "cell_type": "code",
   "execution_count": 43,
   "metadata": {},
   "outputs": [
    {
     "data": {
      "image/png": "[encoded data removed]",
      "text/plain": [
       "<Figure size 432x288 with 1 Axes>"
      ]
     },
     "metadata": {
      "needs_background": "light"
     },
     "output_type": "display_data"
    }
   ],
   "source": [
    "# Plotting Capital vs Final Policy\n",
    "x = range(100)\n",
    "y = policy\n",
    "\n",
    "plt.bar(x,y)\n",
    "plt.xlabel('Capital')\n",
    "plt.ylabel('Final Policy (stake)')\n",
    "plt.title('Capital vs Final Policy')\n",
    "plt.show()\n"
   ]
  },
  {
   "cell_type": "code",
   "execution_count": null,
   "metadata": {},
   "outputs": [],
   "source": []
  }
 ],
 "metadata": {
  "kernelspec": {
   "display_name": "Python 3",
   "language": "python",
   "name": "python3"
  },
  "language_info": {
   "codemirror_mode": {
    "name": "ipython",
    "version": 3
   },
   "file_extension": ".py",
   "mimetype": "text/x-python",
   "name": "python",
   "nbconvert_exporter": "python",
   "pygments_lexer": "ipython3",
   "version": "3.8.3"
  }
 },
 "nbformat": 4,
 "nbformat_minor": 1
}
