{
 "cells": [
  {
   "cell_type": "markdown",
   "metadata": {},
   "source": [
    "# CNN Advanced (EMNIST dataset)"
   ]
  },
  {
   "cell_type": "code",
   "execution_count": 1,
   "metadata": {
    "collapsed": true
   },
   "outputs": [],
   "source": [
    "# Run the comment below only when using Google Colab\n",
    "# !pip install torch torchvision"
   ]
  },
  {
   "cell_type": "markdown",
   "metadata": {},
   "source": [
    "Google Colab에서 실행할 경우 위 주석을 해제하고 실행하면 됨. Colab에는 pytorch가 설치되어있지 않으므로 설치 필요."
   ]
  },
  {
   "cell_type": "code",
   "execution_count": 1,
   "metadata": {
    "collapsed": true
   },
   "outputs": [],
   "source": [
    "import torch\n",
    "import torchvision\n",
    "import torch.nn as nn"
   ]
  },
  {
   "cell_type": "code",
   "execution_count": 2,
   "metadata": {
    "collapsed": true
   },
   "outputs": [],
   "source": [
    "from torch.utils.data import DataLoader\n",
    "from torch.utils.data.dataset import Dataset"
   ]
  },
  {
   "cell_type": "code",
   "execution_count": 3,
   "metadata": {
    "collapsed": true
   },
   "outputs": [],
   "source": [
    "from torchvision import transforms"
   ]
  },
  {
   "cell_type": "code",
   "execution_count": 4,
   "metadata": {
    "collapsed": true
   },
   "outputs": [],
   "source": [
    "import urllib\n",
    "import numpy as np\n",
    "import datetime\n",
    "import os, sys\n",
    "from PIL import Image"
   ]
  },
  {
   "cell_type": "code",
   "execution_count": 5,
   "metadata": {
    "collapsed": true
   },
   "outputs": [],
   "source": [
    "from matplotlib.pyplot import imshow, imsave\n",
    "%matplotlib inline"
   ]
  },
  {
   "cell_type": "code",
   "execution_count": 6,
   "metadata": {},
   "outputs": [],
   "source": [
    "MODEL_NAME = 'CNN'\n",
    "DEVICE = torch.device(\"cuda\" if torch.cuda.is_available() else \"cpu\")"
   ]
  },
  {
   "cell_type": "code",
   "execution_count": 7,
   "metadata": {},
   "outputs": [],
   "source": [
    "class EMNIST(Dataset):\n",
    "    '''\n",
    "    EMNIST Dataset (split: letters)\n",
    "    Reference:\n",
    "        Dataset: https://www.kaggle.com/crawford/emnist\n",
    "        Paper: https://arxiv.org/abs/1702.05373v1\n",
    "    '''\n",
    "    url = {\n",
    "        'train': 'https://www.dropbox.com/s/pnfxiohzpq75i6a/emnist-train.npy?dl=1',\n",
    "        'test': 'https://www.dropbox.com/s/2sl1kzcemnh2qlj/emnist-test.npy?dl=1',\n",
    "    }\n",
    "    \n",
    "    def __init__(self, data_path, transform, download=True, train=True):\n",
    "        '''\n",
    "        Args:\n",
    "            data_path (str): path to dataset\n",
    "        '''\n",
    "        self.data_path = data_path\n",
    "        self.transform = transform\n",
    "        self.mode = 'train' if train else 'test'\n",
    "        if download:\n",
    "            fpath = self._download(self.url[self.mode], data_path)\n",
    "        else:\n",
    "            fpath = os.path.join(data_path, 'emnist-{}.npy'.format(self.mode))\n",
    "        _file = np.load(fpath)\n",
    "        self.images = _file[:, 1:].reshape([len(_file), 28, 28])\n",
    "        self.labels = torch.tensor(_file[:, 0]-1, dtype=torch.long)\n",
    "        \n",
    "    def __getitem__(self, idx):\n",
    "        imgs = self.transform(Image.fromarray(self.images[idx]))\n",
    "        return imgs, self.labels[idx]\n",
    "\n",
    "    def __len__(self):\n",
    "        return len(self.labels)\n",
    "    \n",
    "    def _download(self, url, data_path):\n",
    "        data = urllib.request.urlopen(url)\n",
    "        filename = url.rpartition('/')[-1][:-5]\n",
    "        if not os.path.exists(data_path):\n",
    "            os.makedirs(data_path)\n",
    "        file_path = os.path.join(data_path, filename)\n",
    "        with open(file_path, 'wb') as f:\n",
    "            f.write(data.read())\n",
    "        print('Downloaded: ', file_path)\n",
    "        return file_path"
   ]
  },
  {
   "cell_type": "markdown",
   "metadata": {},
   "source": [
    "torchvision의 MNIST dataset과 비슷한 form으로 만들었음.\n",
    "\n",
    "torchvision의 EMNIST가 제대로 작동하지 않아서 직접 만듦."
   ]
  },
  {
   "cell_type": "code",
   "execution_count": 8,
   "metadata": {
    "collapsed": true
   },
   "outputs": [],
   "source": [
    "class DragonNet(nn.Module):\n",
    "    \"\"\"\n",
    "        Simple CNN Clssifier\n",
    "    \"\"\"\n",
    "    def __init__(self, num_classes=10):\n",
    "        super(DragonNet, self).__init__()\n",
    "        self.conv = nn.Sequential(\n",
    "            # (N, 1, 28, 28)\n",
    "            nn.Conv2d(1, 32, kernel_size=5, stride=1, padding=2),\n",
    "            nn.BatchNorm2d(32),\n",
    "            nn.Tanh(),\n",
    "            nn.MaxPool2d(3, 2, padding=1),\n",
    "            # (N, 32, 14, 14)\n",
    "            nn.Conv2d(32, 64, kernel_size=3, stride=1, padding=1),\n",
    "            nn.Sigmoid(),\n",
    "            nn.MaxPool2d(2, 2),\n",
    "            # (N, 64, 7, 7)\n",
    "        )\n",
    "        self.fc = nn.Sequential(\n",
    "            nn.Linear(7*7*64, 32),\n",
    "            nn.Dropout(p=0.8),\n",
    "            nn.Linear(32, num_classes),\n",
    "        )\n",
    "    \n",
    "    def forward(self, x):\n",
    "        y_ = self.conv(x) # (N, 64, 7, 7)\n",
    "        y_ = y_.view(y_.size(0), -1) # (N, 64*7*7)\n",
    "        y_ = self.fc(y_)\n",
    "        return y_"
   ]
  },
  {
   "cell_type": "markdown",
   "metadata": {},
   "source": [
    "**nn.Conv2d**: Conv2d 사용방법 및 다양한 모듈 class [Doc](https://pytorch.org/docs/stable/nn.html#conv2d)\n",
    "\n",
    "모델에 개선의 여지를 많이 남겨 두었음."
   ]
  },
  {
   "cell_type": "code",
   "execution_count": 9,
   "metadata": {
    "collapsed": true
   },
   "outputs": [],
   "source": [
    "model = DragonNet(num_classes=26).to(DEVICE)"
   ]
  },
  {
   "cell_type": "code",
   "execution_count": 10,
   "metadata": {},
   "outputs": [],
   "source": [
    "transform_train = transforms.Compose([\n",
    "        transforms.RandomHorizontalFlip(p=0.5),    \n",
    "        transforms.ToTensor(),\n",
    "        transforms.Normalize(mean=(0.5, 0.5, 0.5),std=(0.5, 0.5, 0.5))]\n",
    ")"
   ]
  },
  {
   "cell_type": "code",
   "execution_count": 11,
   "metadata": {
    "collapsed": true
   },
   "outputs": [],
   "source": [
    "transform_test = transforms.Compose([transforms.ToTensor(),\n",
    "                                transforms.Normalize(mean=(0.5, 0.5, 0.5),\n",
    "                                std=(0.5, 0.5, 0.5))]\n",
    ")"
   ]
  },
  {
   "cell_type": "markdown",
   "metadata": {},
   "source": [
    "**transforms**: 다양한 transform 함수 [Doc](https://pytorch.org/docs/stable/torchvision/transforms.html). Test transform은 변경 X."
   ]
  },
  {
   "cell_type": "code",
   "execution_count": 12,
   "metadata": {},
   "outputs": [],
   "source": [
    "train_set = EMNIST(data_path='data', download=True, train=True, transform=transform_train)\n",
    "test_set = EMNIST(data_path='data', download=True, train=False, transform=transform_test)"
   ]
  },
  {
   "cell_type": "markdown",
   "metadata": {},
   "source": [
    "위에서 정의한 EMNIST class를 통해 dataset 생성\n",
    "\n",
    "폴더에 없을 시에 download하고, 앞서 정의한 transform에 따라 전처리 된 데이터를 return함.\n",
    "\n",
    "train은 trainset, testset에 대한 return"
   ]
  },
  {
   "cell_type": "code",
   "execution_count": 13,
   "metadata": {
    "collapsed": true
   },
   "outputs": [],
   "source": [
    "batch_size = 32"
   ]
  },
  {
   "cell_type": "code",
   "execution_count": 14,
   "metadata": {},
   "outputs": [],
   "source": [
    "train_loader = DataLoader(dataset=train_set, batch_size=batch_size, shuffle=True, drop_last=True)\n",
    "test_loader = DataLoader(dataset=test_set, batch_size=100, shuffle=False, drop_last=False)"
   ]
  },
  {
   "cell_type": "code",
   "execution_count": 15,
   "metadata": {
    "collapsed": true
   },
   "outputs": [],
   "source": [
    "criterion = nn.CrossEntropyLoss()\n",
    "optim = torch.optim.Adam(model.parameters(), lr=0.001)"
   ]
  },
  {
   "cell_type": "code",
   "execution_count": 16,
   "metadata": {
    "collapsed": true
   },
   "outputs": [],
   "source": [
    "max_epoch = 3\n",
    "step = 0"
   ]
  },
  {
   "cell_type": "code",
   "execution_count": 17,
   "metadata": {
    "collapsed": true
   },
   "outputs": [],
   "source": [
    "from torch.optim.lr_scheduler import StepLR\n",
    "scheduler = StepLR(optim, step_size=1000, gamma=0.95)"
   ]
  },
  {
   "cell_type": "code",
   "execution_count": 18,
   "metadata": {
    "scrolled": false
   },
   "outputs": [
    {
     "name": "stdout",
     "output_type": "stream",
     "text": [
      "Epoch: 0/3, Step: 0, Loss: 3.4183974266052246, lr:0.001\n",
      "******************** Test ********************\n",
      "Step: 0, Loss: 4.401900768280029, Accuracy: 5.405405405405405 %\n",
      "**********************************************\n",
      "Epoch: 0/3, Step: 500, Loss: 2.5385336875915527, lr:0.001\n",
      "Epoch: 0/3, Step: 1000, Loss: 2.4766345024108887, lr:0.00095\n",
      "******************** Test ********************\n",
      "Step: 1000, Loss: 1.5496608018875122, Accuracy: 52.66216216216216 %\n",
      "**********************************************\n",
      "Epoch: 0/3, Step: 1500, Loss: 2.2788522243499756, lr:0.00095\n",
      "Epoch: 0/3, Step: 2000, Loss: 2.1016623973846436, lr:0.0009025\n",
      "******************** Test ********************\n",
      "Step: 2000, Loss: 1.0034339427947998, Accuracy: 65.01351351351352 %\n",
      "**********************************************\n",
      "Epoch: 0/3, Step: 2500, Loss: 1.5291451215744019, lr:0.0009025\n",
      "Epoch: 1/3, Step: 3000, Loss: 1.859971284866333, lr:0.000857375\n",
      "******************** Test ********************\n",
      "Step: 3000, Loss: 0.9616425037384033, Accuracy: 67.87837837837839 %\n",
      "**********************************************\n",
      "Epoch: 1/3, Step: 3500, Loss: 2.0776143074035645, lr:0.000857375\n",
      "Epoch: 1/3, Step: 4000, Loss: 1.9020872116088867, lr:0.0008145062499999999\n",
      "******************** Test ********************\n",
      "Step: 4000, Loss: 0.9082263112068176, Accuracy: 67.27702702702703 %\n",
      "**********************************************\n",
      "Epoch: 1/3, Step: 4500, Loss: 1.6463371515274048, lr:0.0008145062499999999\n",
      "Epoch: 1/3, Step: 5000, Loss: 1.2730286121368408, lr:0.0007737809374999998\n",
      "******************** Test ********************\n",
      "Step: 5000, Loss: 0.7519301772117615, Accuracy: 71.16216216216216 %\n",
      "**********************************************\n",
      "Epoch: 1/3, Step: 5500, Loss: 1.4649313688278198, lr:0.0007737809374999998\n",
      "Epoch: 2/3, Step: 6000, Loss: 1.5076512098312378, lr:0.0007350918906249999\n",
      "******************** Test ********************\n",
      "Step: 6000, Loss: 0.7306068539619446, Accuracy: 72.85810810810811 %\n",
      "**********************************************\n",
      "Epoch: 2/3, Step: 6500, Loss: 1.3297966718673706, lr:0.0007350918906249999\n",
      "Epoch: 2/3, Step: 7000, Loss: 1.7449123859405518, lr:0.0006983372960937497\n",
      "******************** Test ********************\n",
      "Step: 7000, Loss: 0.5857755541801453, Accuracy: 73.11486486486487 %\n",
      "**********************************************\n",
      "Epoch: 2/3, Step: 7500, Loss: 2.012073278427124, lr:0.0006983372960937497\n",
      "Epoch: 2/3, Step: 8000, Loss: 1.6451644897460938, lr:0.0006634204312890623\n",
      "******************** Test ********************\n",
      "Step: 8000, Loss: 0.5986208319664001, Accuracy: 73.01351351351352 %\n",
      "**********************************************\n"
     ]
    }
   ],
   "source": [
    "for epoch in range(max_epoch):\n",
    "    for idx, (images, labels) in enumerate(train_loader):\n",
    "        # Training Discriminator\n",
    "        x, y = images.to(DEVICE), labels.to(DEVICE) # (N, 1, 28, 28), (N, )\n",
    "        y_hat = model(x) # (N, 10)\n",
    "        \n",
    "        loss = criterion(y_hat, y)\n",
    "        \n",
    "        optim.zero_grad()\n",
    "        loss.backward()\n",
    "        optim.step()\n",
    "        scheduler.step()\n",
    "        \n",
    "        if step % 500 == 0:\n",
    "            print('Epoch: {}/{}, Step: {}, Loss: {}, lr:{}'.format(\n",
    "                epoch, max_epoch, step, loss.item(), scheduler.get_lr()[0]))\n",
    "        \n",
    "        if step % 1000 == 0:\n",
    "            model.eval()\n",
    "            acc = 0.\n",
    "            with torch.no_grad():\n",
    "                for idx, (images, labels) in enumerate(test_loader):\n",
    "                    x, y = images.to(DEVICE), labels.to(DEVICE) # (N, 1, 28, 28), (N, )\n",
    "                    y_hat = model(x) # (N, 10)\n",
    "                    loss = criterion(y_hat, y)\n",
    "                    _, indices = torch.max(y_hat, dim=-1)\n",
    "                    acc += torch.sum(indices == y).item()\n",
    "            print('*'*20, 'Test', '*'*20)\n",
    "            print('Step: {}, Loss: {}, Accuracy: {} %'.format(step, loss.item(), acc/len(test_set)*100))\n",
    "            print('*'*46)\n",
    "            model.train()\n",
    "        step += 1"
   ]
  },
  {
   "cell_type": "markdown",
   "metadata": {},
   "source": [
    "## Test and Visualize"
   ]
  },
  {
   "cell_type": "code",
   "execution_count": 19,
   "metadata": {},
   "outputs": [
    {
     "name": "stdout",
     "output_type": "stream",
     "text": [
      "******************** Test ********************\n",
      "Step: 8325, Loss: 0.6139542460441589, Accuracy: 75.38513513513514 %\n",
      "**********************************************\n"
     ]
    }
   ],
   "source": [
    "# Test\n",
    "model.eval()\n",
    "acc = 0.\n",
    "with torch.no_grad():\n",
    "    for idx, (images, labels) in enumerate(test_loader):\n",
    "        x, y = images.to(DEVICE), labels.to(DEVICE) # (N, 1, 28, 28), (N, )\n",
    "        y_hat = model(x) # (N, 10)\n",
    "        loss = criterion(y_hat, y)\n",
    "        _, indices = torch.max(y_hat, dim=-1)\n",
    "        acc += torch.sum(indices == y).item()\n",
    "print('*'*20, 'Test', '*'*20)\n",
    "print('Step: {}, Loss: {}, Accuracy: {} %'.format(step, loss.item(), acc/len(test_set)*100))\n",
    "print('*'*46)"
   ]
  },
  {
   "cell_type": "code",
   "execution_count": 20,
   "metadata": {},
   "outputs": [
    {
     "data": {
      "text/plain": [
       "(torch.Size([1, 28, 28]), tensor(1))"
      ]
     },
     "execution_count": 20,
     "metadata": {},
     "output_type": "execute_result"
    }
   ],
   "source": [
    "idx = 888 # 0 to 9999\n",
    "img, y = test_set[idx]\n",
    "img.shape, y"
   ]
  },
  {
   "cell_type": "code",
   "execution_count": 21,
   "metadata": {},
   "outputs": [
    {
     "data": {
      "text/plain": [
       "<matplotlib.image.AxesImage at 0x2c9036b62b0>"
      ]
     },
     "execution_count": 21,
     "metadata": {},
     "output_type": "execute_result"
    },
    {
     "data": {
      "image/png": "[encoded data removed]",
      "text/plain": [
       "<matplotlib.figure.Figure at 0x2c9020150f0>"
      ]
     },
     "metadata": {},
     "output_type": "display_data"
    }
   ],
   "source": [
    "imshow(img[0], cmap='gray')"
   ]
  },
  {
   "cell_type": "code",
   "execution_count": 22,
   "metadata": {},
   "outputs": [
    {
     "name": "stdout",
     "output_type": "stream",
     "text": [
      "예측은 B\n",
      "정답은 B\n"
     ]
    }
   ],
   "source": [
    "sample = img.unsqueeze(dim=0).to(DEVICE)\n",
    "out = model(sample)\n",
    "_, idx = out.max(dim=-1)\n",
    "print('예측은 {}'.format(chr(idx.item()+65)))\n",
    "print('정답은 {}'.format(chr(y+65)))"
   ]
  },
  {
   "cell_type": "code",
   "execution_count": null,
   "metadata": {
    "collapsed": true
   },
   "outputs": [],
   "source": []
  }
 ],
 "metadata": {
  "kernelspec": {
   "display_name": "Python 3",
   "language": "python",
   "name": "python3"
  },
  "language_info": {
   "codemirror_mode": {
    "name": "ipython",
    "version": 3
   },
   "file_extension": ".py",
   "mimetype": "text/x-python",
   "name": "python",
   "nbconvert_exporter": "python",
   "pygments_lexer": "ipython3",
   "version": "3.6.7"
  }
 },
 "nbformat": 4,
 "nbformat_minor": 2
}
